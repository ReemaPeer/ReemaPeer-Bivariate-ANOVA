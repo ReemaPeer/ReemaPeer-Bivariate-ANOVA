{
 "cells": [
  {
   "cell_type": "code",
   "execution_count": 1,
   "id": "1e7bffe8",
   "metadata": {},
   "outputs": [],
   "source": [
    "# Importing the required libraries\n",
    "\n",
    "import pandas as pd\n",
    "import numpy as np\n",
    "import matplotlib.pyplot as plt"
   ]
  },
  {
   "cell_type": "code",
   "execution_count": 2,
   "id": "56514920",
   "metadata": {},
   "outputs": [
    {
     "data": {
      "text/html": [
       "<div>\n",
       "<style scoped>\n",
       "    .dataframe tbody tr th:only-of-type {\n",
       "        vertical-align: middle;\n",
       "    }\n",
       "\n",
       "    .dataframe tbody tr th {\n",
       "        vertical-align: top;\n",
       "    }\n",
       "\n",
       "    .dataframe thead th {\n",
       "        text-align: right;\n",
       "    }\n",
       "</style>\n",
       "<table border=\"1\" class=\"dataframe\">\n",
       "  <thead>\n",
       "    <tr style=\"text-align: right;\">\n",
       "      <th></th>\n",
       "      <th>sl_no</th>\n",
       "      <th>ssc_p</th>\n",
       "      <th>hsc_p</th>\n",
       "      <th>degree_p</th>\n",
       "      <th>etest_p</th>\n",
       "      <th>mba_p</th>\n",
       "      <th>salary</th>\n",
       "      <th>gender</th>\n",
       "      <th>ssc_b</th>\n",
       "      <th>hsc_b</th>\n",
       "      <th>hsc_s</th>\n",
       "      <th>degree_t</th>\n",
       "      <th>workex</th>\n",
       "      <th>specialisation</th>\n",
       "      <th>status</th>\n",
       "    </tr>\n",
       "  </thead>\n",
       "  <tbody>\n",
       "    <tr>\n",
       "      <th>0</th>\n",
       "      <td>1.0</td>\n",
       "      <td>67.00</td>\n",
       "      <td>91.00</td>\n",
       "      <td>58.00</td>\n",
       "      <td>55.0</td>\n",
       "      <td>58.80</td>\n",
       "      <td>270000.0</td>\n",
       "      <td>M</td>\n",
       "      <td>Others</td>\n",
       "      <td>Others</td>\n",
       "      <td>Commerce</td>\n",
       "      <td>Sci&amp;Tech</td>\n",
       "      <td>No</td>\n",
       "      <td>Mkt&amp;HR</td>\n",
       "      <td>Placed</td>\n",
       "    </tr>\n",
       "    <tr>\n",
       "      <th>1</th>\n",
       "      <td>2.0</td>\n",
       "      <td>79.33</td>\n",
       "      <td>78.33</td>\n",
       "      <td>77.48</td>\n",
       "      <td>86.5</td>\n",
       "      <td>66.28</td>\n",
       "      <td>200000.0</td>\n",
       "      <td>M</td>\n",
       "      <td>Central</td>\n",
       "      <td>Others</td>\n",
       "      <td>Science</td>\n",
       "      <td>Sci&amp;Tech</td>\n",
       "      <td>Yes</td>\n",
       "      <td>Mkt&amp;Fin</td>\n",
       "      <td>Placed</td>\n",
       "    </tr>\n",
       "    <tr>\n",
       "      <th>2</th>\n",
       "      <td>3.0</td>\n",
       "      <td>65.00</td>\n",
       "      <td>68.00</td>\n",
       "      <td>64.00</td>\n",
       "      <td>75.0</td>\n",
       "      <td>57.80</td>\n",
       "      <td>250000.0</td>\n",
       "      <td>M</td>\n",
       "      <td>Central</td>\n",
       "      <td>Central</td>\n",
       "      <td>Arts</td>\n",
       "      <td>Comm&amp;Mgmt</td>\n",
       "      <td>No</td>\n",
       "      <td>Mkt&amp;Fin</td>\n",
       "      <td>Placed</td>\n",
       "    </tr>\n",
       "    <tr>\n",
       "      <th>3</th>\n",
       "      <td>4.0</td>\n",
       "      <td>56.00</td>\n",
       "      <td>52.00</td>\n",
       "      <td>52.00</td>\n",
       "      <td>66.0</td>\n",
       "      <td>59.43</td>\n",
       "      <td>0.0</td>\n",
       "      <td>M</td>\n",
       "      <td>Central</td>\n",
       "      <td>Central</td>\n",
       "      <td>Science</td>\n",
       "      <td>Sci&amp;Tech</td>\n",
       "      <td>No</td>\n",
       "      <td>Mkt&amp;HR</td>\n",
       "      <td>Not Placed</td>\n",
       "    </tr>\n",
       "    <tr>\n",
       "      <th>4</th>\n",
       "      <td>5.0</td>\n",
       "      <td>85.80</td>\n",
       "      <td>73.60</td>\n",
       "      <td>73.30</td>\n",
       "      <td>96.8</td>\n",
       "      <td>55.50</td>\n",
       "      <td>425000.0</td>\n",
       "      <td>M</td>\n",
       "      <td>Central</td>\n",
       "      <td>Central</td>\n",
       "      <td>Commerce</td>\n",
       "      <td>Comm&amp;Mgmt</td>\n",
       "      <td>No</td>\n",
       "      <td>Mkt&amp;Fin</td>\n",
       "      <td>Placed</td>\n",
       "    </tr>\n",
       "    <tr>\n",
       "      <th>...</th>\n",
       "      <td>...</td>\n",
       "      <td>...</td>\n",
       "      <td>...</td>\n",
       "      <td>...</td>\n",
       "      <td>...</td>\n",
       "      <td>...</td>\n",
       "      <td>...</td>\n",
       "      <td>...</td>\n",
       "      <td>...</td>\n",
       "      <td>...</td>\n",
       "      <td>...</td>\n",
       "      <td>...</td>\n",
       "      <td>...</td>\n",
       "      <td>...</td>\n",
       "      <td>...</td>\n",
       "    </tr>\n",
       "    <tr>\n",
       "      <th>210</th>\n",
       "      <td>211.0</td>\n",
       "      <td>80.60</td>\n",
       "      <td>82.00</td>\n",
       "      <td>77.60</td>\n",
       "      <td>91.0</td>\n",
       "      <td>74.49</td>\n",
       "      <td>400000.0</td>\n",
       "      <td>M</td>\n",
       "      <td>Others</td>\n",
       "      <td>Others</td>\n",
       "      <td>Commerce</td>\n",
       "      <td>Comm&amp;Mgmt</td>\n",
       "      <td>No</td>\n",
       "      <td>Mkt&amp;Fin</td>\n",
       "      <td>Placed</td>\n",
       "    </tr>\n",
       "    <tr>\n",
       "      <th>211</th>\n",
       "      <td>212.0</td>\n",
       "      <td>58.00</td>\n",
       "      <td>60.00</td>\n",
       "      <td>72.00</td>\n",
       "      <td>74.0</td>\n",
       "      <td>53.62</td>\n",
       "      <td>275000.0</td>\n",
       "      <td>M</td>\n",
       "      <td>Others</td>\n",
       "      <td>Others</td>\n",
       "      <td>Science</td>\n",
       "      <td>Sci&amp;Tech</td>\n",
       "      <td>No</td>\n",
       "      <td>Mkt&amp;Fin</td>\n",
       "      <td>Placed</td>\n",
       "    </tr>\n",
       "    <tr>\n",
       "      <th>212</th>\n",
       "      <td>213.0</td>\n",
       "      <td>67.00</td>\n",
       "      <td>67.00</td>\n",
       "      <td>73.00</td>\n",
       "      <td>59.0</td>\n",
       "      <td>69.72</td>\n",
       "      <td>295000.0</td>\n",
       "      <td>M</td>\n",
       "      <td>Others</td>\n",
       "      <td>Others</td>\n",
       "      <td>Commerce</td>\n",
       "      <td>Comm&amp;Mgmt</td>\n",
       "      <td>Yes</td>\n",
       "      <td>Mkt&amp;Fin</td>\n",
       "      <td>Placed</td>\n",
       "    </tr>\n",
       "    <tr>\n",
       "      <th>213</th>\n",
       "      <td>214.0</td>\n",
       "      <td>74.00</td>\n",
       "      <td>66.00</td>\n",
       "      <td>58.00</td>\n",
       "      <td>70.0</td>\n",
       "      <td>60.23</td>\n",
       "      <td>204000.0</td>\n",
       "      <td>F</td>\n",
       "      <td>Others</td>\n",
       "      <td>Others</td>\n",
       "      <td>Commerce</td>\n",
       "      <td>Comm&amp;Mgmt</td>\n",
       "      <td>No</td>\n",
       "      <td>Mkt&amp;HR</td>\n",
       "      <td>Placed</td>\n",
       "    </tr>\n",
       "    <tr>\n",
       "      <th>214</th>\n",
       "      <td>215.0</td>\n",
       "      <td>62.00</td>\n",
       "      <td>58.00</td>\n",
       "      <td>53.00</td>\n",
       "      <td>89.0</td>\n",
       "      <td>60.22</td>\n",
       "      <td>0.0</td>\n",
       "      <td>M</td>\n",
       "      <td>Central</td>\n",
       "      <td>Others</td>\n",
       "      <td>Science</td>\n",
       "      <td>Comm&amp;Mgmt</td>\n",
       "      <td>No</td>\n",
       "      <td>Mkt&amp;HR</td>\n",
       "      <td>Not Placed</td>\n",
       "    </tr>\n",
       "  </tbody>\n",
       "</table>\n",
       "<p>215 rows × 15 columns</p>\n",
       "</div>"
      ],
      "text/plain": [
       "     sl_no  ssc_p  hsc_p  degree_p  etest_p  mba_p    salary gender    ssc_b  \\\n",
       "0      1.0  67.00  91.00     58.00     55.0  58.80  270000.0      M   Others   \n",
       "1      2.0  79.33  78.33     77.48     86.5  66.28  200000.0      M  Central   \n",
       "2      3.0  65.00  68.00     64.00     75.0  57.80  250000.0      M  Central   \n",
       "3      4.0  56.00  52.00     52.00     66.0  59.43       0.0      M  Central   \n",
       "4      5.0  85.80  73.60     73.30     96.8  55.50  425000.0      M  Central   \n",
       "..     ...    ...    ...       ...      ...    ...       ...    ...      ...   \n",
       "210  211.0  80.60  82.00     77.60     91.0  74.49  400000.0      M   Others   \n",
       "211  212.0  58.00  60.00     72.00     74.0  53.62  275000.0      M   Others   \n",
       "212  213.0  67.00  67.00     73.00     59.0  69.72  295000.0      M   Others   \n",
       "213  214.0  74.00  66.00     58.00     70.0  60.23  204000.0      F   Others   \n",
       "214  215.0  62.00  58.00     53.00     89.0  60.22       0.0      M  Central   \n",
       "\n",
       "       hsc_b     hsc_s   degree_t workex specialisation      status  \n",
       "0     Others  Commerce   Sci&Tech     No         Mkt&HR      Placed  \n",
       "1     Others   Science   Sci&Tech    Yes        Mkt&Fin      Placed  \n",
       "2    Central      Arts  Comm&Mgmt     No        Mkt&Fin      Placed  \n",
       "3    Central   Science   Sci&Tech     No         Mkt&HR  Not Placed  \n",
       "4    Central  Commerce  Comm&Mgmt     No        Mkt&Fin      Placed  \n",
       "..       ...       ...        ...    ...            ...         ...  \n",
       "210   Others  Commerce  Comm&Mgmt     No        Mkt&Fin      Placed  \n",
       "211   Others   Science   Sci&Tech     No        Mkt&Fin      Placed  \n",
       "212   Others  Commerce  Comm&Mgmt    Yes        Mkt&Fin      Placed  \n",
       "213   Others  Commerce  Comm&Mgmt     No         Mkt&HR      Placed  \n",
       "214   Others   Science  Comm&Mgmt     No         Mkt&HR  Not Placed  \n",
       "\n",
       "[215 rows x 15 columns]"
      ]
     },
     "execution_count": 2,
     "metadata": {},
     "output_type": "execute_result"
    }
   ],
   "source": [
    "# Reading the cleaned dataset\n",
    "\n",
    "data = pd.read_csv(\"Preporcessed_Plcement.csv\")\n",
    "data"
   ]
  },
  {
   "cell_type": "code",
   "execution_count": 3,
   "id": "01d876e4",
   "metadata": {},
   "outputs": [
    {
     "data": {
      "text/plain": [
       "sl_no             0\n",
       "ssc_p             0\n",
       "hsc_p             0\n",
       "degree_p          0\n",
       "etest_p           0\n",
       "mba_p             0\n",
       "salary            0\n",
       "gender            0\n",
       "ssc_b             0\n",
       "hsc_b             0\n",
       "hsc_s             0\n",
       "degree_t          0\n",
       "workex            0\n",
       "specialisation    0\n",
       "status            0\n",
       "dtype: int64"
      ]
     },
     "execution_count": 3,
     "metadata": {},
     "output_type": "execute_result"
    }
   ],
   "source": [
    "# Checking for null values\n",
    "\n",
    "data.isna().sum()"
   ]
  },
  {
   "cell_type": "markdown",
   "id": "1c64d2ab",
   "metadata": {},
   "source": [
    "# Finding the probability of similarity using T-Test"
   ]
  },
  {
   "cell_type": "markdown",
   "id": "cfca0b63",
   "metadata": {},
   "source": [
    "###   Unpaired T-Test ---- Independent sample\n",
    "       Different group(Male, Female)\n",
    "       Same Condition(Salary)"
   ]
  },
  {
   "cell_type": "code",
   "execution_count": 4,
   "id": "dfbfa036",
   "metadata": {},
   "outputs": [
    {
     "data": {
      "text/plain": [
       "Ttest_indResult(statistic=2.1103433958668765, pvalue=0.03599560646745178)"
      ]
     },
     "execution_count": 4,
     "metadata": {},
     "output_type": "execute_result"
    }
   ],
   "source": [
    "from scipy.stats import ttest_ind\n",
    "data = data.dropna() \n",
    "Male = data[data['gender'] == 'M']['salary']\n",
    "Female = data[data['gender'] == 'F']['salary']\n",
    "ttest_ind(Male, Female)"
   ]
  },
  {
   "cell_type": "markdown",
   "id": "6735c0c3",
   "metadata": {},
   "source": [
    "#### Result:\n",
    "##### The T-Test result shows the probability of similarity as 3%  (less than 5%) which is acceptable "
   ]
  },
  {
   "cell_type": "markdown",
   "id": "0729ea13",
   "metadata": {},
   "source": [
    "###   Unpaired T-Test ---- Independent sample\n",
    "       Different Group (Commerce, Science) \n",
    "       Same Condition (mba_p)"
   ]
  },
  {
   "cell_type": "code",
   "execution_count": 5,
   "id": "150a0f8c",
   "metadata": {},
   "outputs": [
    {
     "data": {
      "text/plain": [
       "Ttest_indResult(statistic=-0.7331285580404581, pvalue=0.46432995253854314)"
      ]
     },
     "execution_count": 5,
     "metadata": {},
     "output_type": "execute_result"
    }
   ],
   "source": [
    "from scipy.stats import ttest_ind\n",
    "Commerce = data[data['hsc_s'] == 'Commerce']['mba_p']\n",
    "Science = data[data['hsc_s'] == 'Science']['mba_p']\n",
    "ttest_ind(Commerce, Science)"
   ]
  },
  {
   "cell_type": "markdown",
   "id": "4e069e2a",
   "metadata": {},
   "source": [
    "#### Result:\n",
    "##### The T-Test result shows the probability of similarity as 46% (Greater than 5%) which is  not an acceptable range."
   ]
  },
  {
   "cell_type": "markdown",
   "id": "47b7ecd4",
   "metadata": {},
   "source": [
    "###   Paired T-Test ---- Dependent sample\n",
    "       Same group(Male)\n",
    "       Different Condition(ssc_p, hsc_p)"
   ]
  },
  {
   "cell_type": "code",
   "execution_count": 6,
   "id": "4ddcdbb6",
   "metadata": {},
   "outputs": [
    {
     "data": {
      "text/plain": [
       "Ttest_relResult(statistic=0.6852881050898078, pvalue=0.49431164600731503)"
      ]
     },
     "execution_count": 6,
     "metadata": {},
     "output_type": "execute_result"
    }
   ],
   "source": [
    "from scipy.stats import ttest_rel\n",
    "Male_1 = data[data['gender'] == 'M']['ssc_p']\n",
    "Male_2 = data[data['gender'] == 'M']['hsc_p']\n",
    "ttest_rel(Male_1, Male_2)"
   ]
  },
  {
   "cell_type": "markdown",
   "id": "bcf6e509",
   "metadata": {},
   "source": [
    "#### Result:\n",
    "##### The T-Test result shows the probability of similarity as 49% (Greater than 5%) which is not an acceptable range."
   ]
  },
  {
   "cell_type": "markdown",
   "id": "e524b624",
   "metadata": {},
   "source": [
    "###   Paired T-Test ---- Dependent sample\n",
    "       Same group(Commerce)\n",
    "       Different Condition(etest_p, mba_p)"
   ]
  },
  {
   "cell_type": "code",
   "execution_count": 7,
   "id": "c63b4a4f",
   "metadata": {},
   "outputs": [
    {
     "data": {
      "text/plain": [
       "Ttest_relResult(statistic=7.868552092606869, pvalue=2.462926468454984e-12)"
      ]
     },
     "execution_count": 7,
     "metadata": {},
     "output_type": "execute_result"
    }
   ],
   "source": [
    "from scipy.stats import ttest_rel\n",
    "comm_1 = data[data['hsc_s'] == 'Commerce']['etest_p']\n",
    "comm_2 = data[data['hsc_s'] == 'Commerce']['mba_p']\n",
    "ttest_rel(comm_1, comm_2)"
   ]
  },
  {
   "cell_type": "markdown",
   "id": "8e8e0876",
   "metadata": {},
   "source": [
    "#### Result:\n",
    "##### The T-Test result shows the probability of similarity as 246% (Greater than 5%) which is not an acceptable range."
   ]
  },
  {
   "cell_type": "markdown",
   "id": "d7bf51f1",
   "metadata": {},
   "source": [
    "# Hypothesis Testing"
   ]
  },
  {
   "cell_type": "markdown",
   "id": "a892c4bc",
   "metadata": {},
   "source": [
    "#### Null hypothesis (H0): This is the default assumption, usually stating that there is no effect or no difference."
   ]
  },
  {
   "cell_type": "markdown",
   "id": "2b2b97ba",
   "metadata": {},
   "source": [
    "#### Alternative hypothesis (H1 or Ha): This is the assertion you want to test, usually stating that there is an effect or a difference."
   ]
  },
  {
   "cell_type": "markdown",
   "id": "72e26021",
   "metadata": {},
   "source": [
    "## Statement:1\n",
    "     There is no difference between the SSC pass mark of Male And HSC pass mark of Male"
   ]
  },
  {
   "cell_type": "code",
   "execution_count": 8,
   "id": "ce589fb7",
   "metadata": {},
   "outputs": [
    {
     "data": {
      "text/plain": [
       "Ttest_relResult(statistic=0.6852881050898078, pvalue=0.49431164600731503)"
      ]
     },
     "execution_count": 8,
     "metadata": {},
     "output_type": "execute_result"
    }
   ],
   "source": [
    "from scipy.stats import ttest_rel\n",
    "Male_1 = data[data['gender'] == 'M']['ssc_p']\n",
    "Male_2 = data[data['gender'] == 'M']['hsc_p']\n",
    "ttest_rel(Male_1, Male_2)"
   ]
  },
  {
   "cell_type": "markdown",
   "id": "fca33bb8",
   "metadata": {},
   "source": [
    "# Report:\n",
    "    As the P value is 0.494, Which is greater than the significant value of 0.05.\n",
    "    We fail to reject the Null Hypothesis.\n",
    "    In other words there is not enough evidence to support Alternate Hypothesis."
   ]
  },
  {
   "cell_type": "markdown",
   "id": "d2c9b692",
   "metadata": {},
   "source": [
    "# Statement:2\n",
    "    There is no difference between the salary of male and salary of female"
   ]
  },
  {
   "cell_type": "code",
   "execution_count": 9,
   "id": "71dd384f",
   "metadata": {},
   "outputs": [
    {
     "data": {
      "text/plain": [
       "Ttest_indResult(statistic=2.1103433958668765, pvalue=0.03599560646745178)"
      ]
     },
     "execution_count": 9,
     "metadata": {},
     "output_type": "execute_result"
    }
   ],
   "source": [
    "from scipy.stats import ttest_ind\n",
    "Male = data[data['gender'] == 'M']['salary']\n",
    "Female = data[data['gender'] == 'F']['salary']\n",
    "ttest_ind(Male, Female)"
   ]
  },
  {
   "cell_type": "markdown",
   "id": "7ced9bc9",
   "metadata": {},
   "source": [
    "# Report:\n",
    "    As the P value is 0.0359, which is less than the significant value of 0.05.\n",
    "    We reject the Null Hypothesis.\n",
    "    In other words there is evidence to support Alternate Hypothesis."
   ]
  },
  {
   "cell_type": "markdown",
   "id": "14fa9345",
   "metadata": {},
   "source": [
    "# ANOVA:Analysis of Variance"
   ]
  },
  {
   "cell_type": "markdown",
   "id": "4d676c05",
   "metadata": {},
   "source": [
    "#### One Way Classification (One Independent variable)"
   ]
  },
  {
   "cell_type": "markdown",
   "id": "fd02b250",
   "metadata": {},
   "source": [
    "### Statement:\n",
    "    H0: There is no significant variance between the SSC_p, HSC_p, Degree_p\n",
    "    H1: There is significant difference between the SSC_p, HSC_p, Degree_p"
   ]
  },
  {
   "cell_type": "code",
   "execution_count": 10,
   "id": "3c4d851c",
   "metadata": {},
   "outputs": [
    {
     "data": {
      "text/plain": [
       "F_onewayResult(statistic=0.6719700864663097, pvalue=0.5110602818995302)"
      ]
     },
     "execution_count": 10,
     "metadata": {},
     "output_type": "execute_result"
    }
   ],
   "source": [
    "import scipy.stats as stats\n",
    "stats.f_oneway(data['ssc_p'], data['hsc_p'], data['degree_p'])"
   ]
  },
  {
   "cell_type": "markdown",
   "id": "a1dfb0af",
   "metadata": {},
   "source": [
    "### Result:\n",
    "     As the pvalue is 0.511 Which is greater than the Significant Value of 0.05,\n",
    "     We have no evidence to reject null hypothesis in favour of Alternate Hypothesis."
   ]
  },
  {
   "cell_type": "markdown",
   "id": "0ea50885",
   "metadata": {},
   "source": [
    "####  Two Way Classificaion (Two Independent variable)"
   ]
  },
  {
   "cell_type": "code",
   "execution_count": 11,
   "id": "8c2ba4ef",
   "metadata": {},
   "outputs": [],
   "source": [
    "# pip install pingouin"
   ]
  },
  {
   "cell_type": "markdown",
   "id": "87dca999",
   "metadata": {},
   "source": [
    "### Statement:\n",
    "     H0: There is no significant difference in employee salaries based on high school and MBA percentages.\n",
    "     H1: There is a significant difference in employee salaries based on high school and MBA percentages"
   ]
  },
  {
   "cell_type": "code",
   "execution_count": null,
   "id": "e1fc46e7",
   "metadata": {},
   "outputs": [],
   "source": []
  },
  {
   "cell_type": "code",
   "execution_count": 12,
   "id": "d0d6a28f",
   "metadata": {},
   "outputs": [
    {
     "name": "stderr",
     "output_type": "stream",
     "text": [
      "C:\\Users\\reema\\anaconda3\\envs\\aiml\\lib\\site-packages\\outdated\\utils.py:18: OutdatedPackageWarning: The package pingouin is out of date. Your version is 0.5.3, the latest is 0.5.4.\n",
      "Set the environment variable OUTDATED_IGNORE=1 to disable these warnings.\n",
      "  **kwargs\n",
      "C:\\Users\\reema\\anaconda3\\envs\\aiml\\lib\\site-packages\\pingouin\\parametric.py:1094: RuntimeWarning: divide by zero encountered in double_scalars\n",
      "  fval_fac1 = ms_fac1 / ms_resid\n",
      "C:\\Users\\reema\\anaconda3\\envs\\aiml\\lib\\site-packages\\pingouin\\parametric.py:1095: RuntimeWarning: divide by zero encountered in double_scalars\n",
      "  fval_fac2 = ms_fac2 / ms_resid\n",
      "C:\\Users\\reema\\anaconda3\\envs\\aiml\\lib\\site-packages\\pingouin\\parametric.py:1096: RuntimeWarning: divide by zero encountered in double_scalars\n",
      "  fval_inter = ms_inter / ms_resid\n"
     ]
    },
    {
     "data": {
      "text/html": [
       "<div>\n",
       "<style scoped>\n",
       "    .dataframe tbody tr th:only-of-type {\n",
       "        vertical-align: middle;\n",
       "    }\n",
       "\n",
       "    .dataframe tbody tr th {\n",
       "        vertical-align: top;\n",
       "    }\n",
       "\n",
       "    .dataframe thead th {\n",
       "        text-align: right;\n",
       "    }\n",
       "</style>\n",
       "<table border=\"1\" class=\"dataframe\">\n",
       "  <thead>\n",
       "    <tr style=\"text-align: right;\">\n",
       "      <th></th>\n",
       "      <th>Source</th>\n",
       "      <th>SS</th>\n",
       "      <th>DF</th>\n",
       "      <th>MS</th>\n",
       "      <th>F</th>\n",
       "      <th>np2</th>\n",
       "    </tr>\n",
       "  </thead>\n",
       "  <tbody>\n",
       "    <tr>\n",
       "      <th>0</th>\n",
       "      <td>hsc_p</td>\n",
       "      <td>3.245552e+12</td>\n",
       "      <td>96</td>\n",
       "      <td>3.380783e+10</td>\n",
       "      <td>-inf</td>\n",
       "      <td>1.0</td>\n",
       "    </tr>\n",
       "    <tr>\n",
       "      <th>1</th>\n",
       "      <td>mba_p</td>\n",
       "      <td>4.904977e+12</td>\n",
       "      <td>204</td>\n",
       "      <td>2.404401e+10</td>\n",
       "      <td>-inf</td>\n",
       "      <td>1.0</td>\n",
       "    </tr>\n",
       "    <tr>\n",
       "      <th>2</th>\n",
       "      <td>hsc_p * mba_p</td>\n",
       "      <td>-3.023702e+12</td>\n",
       "      <td>19584</td>\n",
       "      <td>-1.543965e+08</td>\n",
       "      <td>inf</td>\n",
       "      <td>1.0</td>\n",
       "    </tr>\n",
       "    <tr>\n",
       "      <th>3</th>\n",
       "      <td>Residual</td>\n",
       "      <td>0.000000e+00</td>\n",
       "      <td>-19670</td>\n",
       "      <td>-0.000000e+00</td>\n",
       "      <td>NaN</td>\n",
       "      <td>NaN</td>\n",
       "    </tr>\n",
       "  </tbody>\n",
       "</table>\n",
       "</div>"
      ],
      "text/plain": [
       "          Source            SS     DF            MS    F  np2\n",
       "0          hsc_p  3.245552e+12     96  3.380783e+10 -inf  1.0\n",
       "1          mba_p  4.904977e+12    204  2.404401e+10 -inf  1.0\n",
       "2  hsc_p * mba_p -3.023702e+12  19584 -1.543965e+08  inf  1.0\n",
       "3       Residual  0.000000e+00 -19670 -0.000000e+00  NaN  NaN"
      ]
     },
     "execution_count": 12,
     "metadata": {},
     "output_type": "execute_result"
    }
   ],
   "source": [
    "import pingouin as pg\n",
    "pg.anova(data=data, dv='salary', between=['hsc_p', 'mba_p'], detailed=True)"
   ]
  },
  {
   "cell_type": "markdown",
   "id": "f803bb93",
   "metadata": {},
   "source": [
    "### Result:\n",
    "        Undefined."
   ]
  }
 ],
 "metadata": {
  "kernelspec": {
   "display_name": "Python 3 (ipykernel)",
   "language": "python",
   "name": "python3"
  },
  "language_info": {
   "codemirror_mode": {
    "name": "ipython",
    "version": 3
   },
   "file_extension": ".py",
   "mimetype": "text/x-python",
   "name": "python",
   "nbconvert_exporter": "python",
   "pygments_lexer": "ipython3",
   "version": "3.7.6"
  }
 },
 "nbformat": 4,
 "nbformat_minor": 5
}
